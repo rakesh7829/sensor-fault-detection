{
 "cells": [
  {
   "cell_type": "code",
   "execution_count": null,
   "metadata": {},
   "outputs": [],
   "source": [
    "import pandas as pd\n",
    "from scipy.stats import ks_2samp\n",
    "\n",
    "\n",
    "report={}\n",
    "def get_drift_report(basedata_df,current_df):\n",
    "    d1=basedata_df.columns\n",
    "    d2=current_df.columns\n",
    "    for column in basedata_df.columns:\n",
    "        p_valuee=ks_2samp(d1.column,d2.column)\n",
    "        report.update()\n",
    "\n",
    "\n"
   ]
  },
  {
   "cell_type": "code",
   "execution_count": 3,
   "metadata": {},
   "outputs": [],
   "source": [
    "numbers = [5, 10, 15, 20, 25, 30, 35]\n",
    "def get_even_numbers(numbers):\n",
    "  print([i for i in numbers if (i%2==0)])"
   ]
  }
 ],
 "metadata": {
  "kernelspec": {
   "display_name": "Python 3",
   "language": "python",
   "name": "python3"
  },
  "language_info": {
   "codemirror_mode": {
    "name": "ipython",
    "version": 3
   },
   "file_extension": ".py",
   "mimetype": "text/x-python",
   "name": "python",
   "nbconvert_exporter": "python",
   "pygments_lexer": "ipython3",
   "version": "3.8.16"
  },
  "orig_nbformat": 4,
  "vscode": {
   "interpreter": {
    "hash": "46ab85548bad0291e2697f84cad723deb331e3adeed5fa6174ff92b9237ae187"
   }
  }
 },
 "nbformat": 4,
 "nbformat_minor": 2
}
